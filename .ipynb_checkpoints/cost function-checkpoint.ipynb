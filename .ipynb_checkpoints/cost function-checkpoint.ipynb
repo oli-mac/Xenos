{
 "cells": [
  {
   "cell_type": "code",
   "execution_count": 3,
   "id": "0edb15a8",
   "metadata": {},
   "outputs": [
    {
     "name": "stdout",
     "output_type": "stream",
     "text": [
      "0.0\n"
     ]
    }
   ],
   "source": [
    "def cost(t0, t1, list):\n",
    "    m = len(list)\n",
    "    sums = int(0)\n",
    "    for item in list:\n",
    "        x,y = item\n",
    "        ho = t0 + t1 * x\n",
    "        sums += (ho - y)**2\n",
    "    res = (1/(2*m))*sums\n",
    "    return res\n",
    "\n",
    "list = [(1,1),(2,2),(3,3)]\n",
    "t0 = 0\n",
    "t1 = 1\n",
    "error = cost(t0, t1, list)\n",
    "print(error)"
   ]
  },
  {
   "cell_type": "code",
   "execution_count": null,
   "id": "dcb35908",
   "metadata": {},
   "outputs": [],
   "source": []
  }
 ],
 "metadata": {
  "kernelspec": {
   "display_name": "Python 3 (ipykernel)",
   "language": "python",
   "name": "python3"
  },
  "language_info": {
   "codemirror_mode": {
    "name": "ipython",
    "version": 3
   },
   "file_extension": ".py",
   "mimetype": "text/x-python",
   "name": "python",
   "nbconvert_exporter": "python",
   "pygments_lexer": "ipython3",
   "version": "3.8.5"
  }
 },
 "nbformat": 4,
 "nbformat_minor": 5
}
