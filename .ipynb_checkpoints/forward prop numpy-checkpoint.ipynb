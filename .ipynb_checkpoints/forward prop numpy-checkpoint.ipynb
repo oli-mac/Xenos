{
 "cells": [
  {
   "cell_type": "code",
   "execution_count": null,
   "id": "d1358873",
   "metadata": {},
   "outputs": [],
   "source": [
    "import numpy as np\n",
    "\n",
    "def dense(a_in,w,b,g):\n",
    "    units= w.shape[1]\n",
    "    a_out = np.zeros(units)\n",
    "    for j in range(units):\n",
    "        w=[:,j]\n",
    "        z=np.dot(w,a_in)+b[j]\n",
    "        a_out[j]=g(z)\n",
    "    return a_out\n",
    "\n",
    "w= np.array([\n",
    "    [1, -3, 5]\n",
    "    [2, 4, -6]\n",
    "])\n",
    "b= np.array([-1, 1, 2])\n",
    "\n",
    "a_in= np.array([-2, 4])"
   ]
  }
 ],
 "metadata": {
  "kernelspec": {
   "display_name": "Python 3 (ipykernel)",
   "language": "python",
   "name": "python3"
  },
  "language_info": {
   "codemirror_mode": {
    "name": "ipython",
    "version": 3
   },
   "file_extension": ".py",
   "mimetype": "text/x-python",
   "name": "python",
   "nbconvert_exporter": "python",
   "pygments_lexer": "ipython3",
   "version": "3.8.5"
  }
 },
 "nbformat": 4,
 "nbformat_minor": 5
}
