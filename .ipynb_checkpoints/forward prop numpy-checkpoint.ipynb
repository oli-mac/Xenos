{
 "cells": [
  {
   "cell_type": "code",
   "execution_count": 1,
   "id": "f6503981",
   "metadata": {},
   "outputs": [
    {
     "ename": "SyntaxError",
     "evalue": "invalid syntax (Temp/ipykernel_1880/1265391710.py, line 7)",
     "output_type": "error",
     "traceback": [
      "\u001b[1;36m  File \u001b[1;32m\"C:\\Users\\user\\AppData\\Local\\Temp/ipykernel_1880/1265391710.py\"\u001b[1;36m, line \u001b[1;32m7\u001b[0m\n\u001b[1;33m    w=[:,j]\u001b[0m\n\u001b[1;37m       ^\u001b[0m\n\u001b[1;31mSyntaxError\u001b[0m\u001b[1;31m:\u001b[0m invalid syntax\n"
     ]
    }
   ],
   "source": [
    "import numpy as np\n",
    "\n",
    "def dense(a_in,w,b,g):\n",
    "    units= w.shape[1]\n",
    "    a_out = np.zeros(units)\n",
    "    for j in range(units):\n",
    "        w=[:,j]\n",
    "        z=np.dot(w,a_in)+b[j]\n",
    "        a_out[j]=g(z)\n",
    "    return a_out\n",
    "\n",
    "def g(w):\n",
    "    z=np.exp(-w)\n",
    "    sig = 1/(1 + z)\n",
    "\n",
    "    return sig\n",
    "def sequential(x):\n",
    "    a1= dense(x, w1, b1)\n",
    "    a2= dense(a1, w2, b2)\n",
    "    a3= dense(a2, w3, b3)\n",
    "    a4= dense(a3, w4, b4)\n",
    "    \n",
    "    f_x=a4\n",
    "    return f_x\n",
    "\n",
    "w= np.array([\n",
    "    [1, -3, 5]\n",
    "    [2, 4, -6]\n",
    "])\n",
    "b= np.array([-1, 1, 2])\n",
    "\n",
    "a_in= np.array([-2, 4])"
   ]
  }
 ],
 "metadata": {
  "kernelspec": {
   "display_name": "Python 3 (ipykernel)",
   "language": "python",
   "name": "python3"
  },
  "language_info": {
   "codemirror_mode": {
    "name": "ipython",
    "version": 3
   },
   "file_extension": ".py",
   "mimetype": "text/x-python",
   "name": "python",
   "nbconvert_exporter": "python",
   "pygments_lexer": "ipython3",
   "version": "3.8.5"
  }
 },
 "nbformat": 4,
 "nbformat_minor": 5
}
