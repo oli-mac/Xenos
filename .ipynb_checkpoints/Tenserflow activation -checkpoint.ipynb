{
 "cells": [
  {
   "cell_type": "code",
   "execution_count": 8,
   "id": "03c92b2d",
   "metadata": {},
   "outputs": [
    {
     "name": "stdout",
     "output_type": "stream",
     "text": [
      "[[1.00000000e+000]\n",
      " [2.45261912e-231]\n",
      " [1.00000000e+000]]\n",
      "[0.]\n"
     ]
    },
    {
     "name": "stderr",
     "output_type": "stream",
     "text": [
      "C:\\Users\\user\\AppData\\Local\\Temp/ipykernel_11964/1694438732.py:5: RuntimeWarning: overflow encountered in exp\n",
      "  z=np.exp(-w)\n"
     ]
    }
   ],
   "source": [
    "import numpy as np\n",
    "\n",
    "\n",
    "def sigmoid(w):\n",
    "    z=np.exp(-w)\n",
    "    sig = 1/(1 + z)\n",
    "    \n",
    "    return sig\n",
    "\n",
    "\n",
    "x=np.array([200, 17])\n",
    "\n",
    "w1_1 = np.array([1, 2])\n",
    "b1_1 = np.array([-1])\n",
    "z1_1 = np.dot(w1_1, x)+b1_1\n",
    "a1_1 = sigmoid(z1_1)\n",
    "\n",
    "w1_2 = np.array([-3, 4])\n",
    "b1_2 = np.array([1])\n",
    "z1_2 = np.dot(w1_2, x)+b1_2\n",
    "a1_2 = sigmoid(z1_2)\n",
    "\n",
    "w1_3 = np.array([5, -6])\n",
    "b1_3 = np.array([2])\n",
    "z1_3 = np.dot(w1_3, x)+b1_3\n",
    "a1_3 = sigmoid(z1_3)\n",
    "\n",
    "a1=np.array([a1_1, a1_2, a1_3])\n",
    "\n",
    "print (a1)\n",
    "\n",
    "w2_1 = np.array([-7, 8])\n",
    "b2_1 = np.array([3])\n",
    "z2_1 = np.dot(w2_1, x)+b2_1\n",
    "a2_1 = sigmoid(z2_1)\n",
    "\n",
    "print (a2_1)"
   ]
  },
  {
   "cell_type": "code",
   "execution_count": null,
   "id": "e3de8318",
   "metadata": {},
   "outputs": [],
   "source": []
  },
  {
   "cell_type": "code",
   "execution_count": null,
   "id": "c3479bef",
   "metadata": {},
   "outputs": [],
   "source": []
  }
 ],
 "metadata": {
  "kernelspec": {
   "display_name": "Python 3 (ipykernel)",
   "language": "python",
   "name": "python3"
  },
  "language_info": {
   "codemirror_mode": {
    "name": "ipython",
    "version": 3
   },
   "file_extension": ".py",
   "mimetype": "text/x-python",
   "name": "python",
   "nbconvert_exporter": "python",
   "pygments_lexer": "ipython3",
   "version": "3.8.5"
  }
 },
 "nbformat": 4,
 "nbformat_minor": 5
}
