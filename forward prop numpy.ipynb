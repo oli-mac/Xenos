{
 "cells": [
  {
   "cell_type": "code",
   "execution_count": 5,
   "id": "807622d9",
   "metadata": {},
   "outputs": [
    {
     "ename": "NameError",
     "evalue": "name 'f_x' is not defined",
     "output_type": "error",
     "traceback": [
      "\u001b[1;31m---------------------------------------------------------------------------\u001b[0m",
      "\u001b[1;31mNameError\u001b[0m                                 Traceback (most recent call last)",
      "\u001b[1;32m~\\AppData\\Local\\Temp/ipykernel_1880/459223328.py\u001b[0m in \u001b[0;36m<module>\u001b[1;34m\u001b[0m\n\u001b[0;32m     23\u001b[0m     \u001b[0mf_x\u001b[0m\u001b[1;33m=\u001b[0m\u001b[0ma4\u001b[0m\u001b[1;33m\u001b[0m\u001b[1;33m\u001b[0m\u001b[0m\n\u001b[0;32m     24\u001b[0m     \u001b[1;32mreturn\u001b[0m \u001b[0mf_x\u001b[0m\u001b[1;33m\u001b[0m\u001b[1;33m\u001b[0m\u001b[0m\n\u001b[1;32m---> 25\u001b[1;33m \u001b[0mprint\u001b[0m \u001b[1;33m(\u001b[0m\u001b[0mf_x\u001b[0m\u001b[1;33m)\u001b[0m\u001b[1;33m\u001b[0m\u001b[1;33m\u001b[0m\u001b[0m\n\u001b[0m\u001b[0;32m     26\u001b[0m \u001b[1;33m\u001b[0m\u001b[0m\n\u001b[0;32m     27\u001b[0m W= np.array([\n",
      "\u001b[1;31mNameError\u001b[0m: name 'f_x' is not defined"
     ]
    }
   ],
   "source": [
    "import numpy as np\n",
    "\n",
    "def dense(a_in,W,b,g):\n",
    "    units= W.shape[1]\n",
    "    a_out = np.zeros(units)\n",
    "    for j in range(units):\n",
    "        w=W[:,j]\n",
    "        z=np.dot(w,a_in)+b[j]\n",
    "        a_out[j]=g(z)\n",
    "    return a_out\n",
    "\n",
    "def g(w):\n",
    "    z=np.exp(-w)\n",
    "    sig = 1/(1 + z)\n",
    "\n",
    "    return sig\n",
    "def sequential(x):\n",
    "    a1= dense(x, w1, b1)\n",
    "    a2= dense(a1, w2, b2)\n",
    "    a3= dense(a2, w3, b3)\n",
    "    a4= dense(a3, w4, b4)\n",
    "    \n",
    "    f_x=a4\n",
    "    return f_x\n",
    "\n",
    "\n",
    "W= np.array([\n",
    "    [1, -3, 5],\n",
    "    [2, 4, -6]\n",
    "])\n",
    "b= np.array([-1, 1, 2])\n",
    "\n",
    "a_in= np.array([-2, 4])\n",
    "\n",
    "\n"
   ]
  },
  {
   "cell_type": "code",
   "execution_count": null,
   "id": "a3618750",
   "metadata": {},
   "outputs": [],
   "source": []
  }
 ],
 "metadata": {
  "kernelspec": {
   "display_name": "Python 3 (ipykernel)",
   "language": "python",
   "name": "python3"
  },
  "language_info": {
   "codemirror_mode": {
    "name": "ipython",
    "version": 3
   },
   "file_extension": ".py",
   "mimetype": "text/x-python",
   "name": "python",
   "nbconvert_exporter": "python",
   "pygments_lexer": "ipython3",
   "version": "3.8.5"
  }
 },
 "nbformat": 4,
 "nbformat_minor": 5
}
